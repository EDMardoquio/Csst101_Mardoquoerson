{
  "cells": [
    {
      "cell_type": "markdown",
      "metadata": {
        "id": "view-in-github",
        "colab_type": "text"
      },
      "source": [
        "<a href=\"https://colab.research.google.com/github/Dell0515/Data-Analytics/blob/main/Exercise2.ipynb\" target=\"_parent\"><img src=\"https://colab.research.google.com/assets/colab-badge.svg\" alt=\"Open In Colab\"/></a>"
      ]
    },
    {
      "cell_type": "markdown",
      "metadata": {
        "id": "KUeEoXQ21NHQ"
      },
      "source": [
        "Exercise 1: Basic Probabiliy Calculation"
      ]
    },
    {
      "cell_type": "code",
      "execution_count": null,
      "metadata": {
        "colab": {
          "base_uri": "https://localhost:8080/"
        },
        "id": "0qzklSPA1aqo",
        "outputId": "aab7595c-3a12-47a3-ad93-f47492a4f458"
      },
      "outputs": [
        {
          "name": "stdout",
          "output_type": "stream",
          "text": [
            "Joint Probability: 0.12\n",
            "Marginal Probability : 0.58\n",
            "Conditional Probability : 0.6\n"
          ]
        }
      ],
      "source": [
        "def joint_probability(p_A, p_B):\n",
        "  return p_A * p_B\n",
        "\n",
        "def marginal_probability(p_A, p_B):\n",
        "  return p_A + p_B - joint_probability(p_A, p_B)\n",
        "\n",
        "\n",
        "def conditional_probability(p_B_given_given_A, p_A, p_B):\n",
        "  return (p_B_given_A * p_A) / p_B\n",
        "\n",
        "p_A = 0.3\n",
        "p_B = 0.4\n",
        "p_B_given_A = 0.8\n",
        "\n",
        "print(f\"Joint Probability: {joint_probability(p_A,p_B)}\")\n",
        "print(f\"Marginal Probability : {marginal_probability(p_A, p_B)}\")\n",
        "print(f\"Conditional Probability : {conditional_probability(p_B_given_A, p_A, p_B)}\")"
      ]
    },
    {
      "cell_type": "markdown",
      "metadata": {
        "id": "TB9HiYXNYqc6"
      },
      "source": [
        "Assessment Task 1: Basic Probability Calculations\n",
        "\n",
        "\n",
        "1. Start with a Coding Task:\n",
        "• Write Python functions to compute joint probability, marginal probability, and\n",
        "conditional probability.\n",
        "2. Interactive Question:\n",
        "• Question: If the probability of event A is 0.3 and the probability of event B is 0.4,\n",
        "what is the joint probability of A and B assuming they are independent?\n",
        "• Answer using Code: Implement the function joint_probability(p_A, p_B) to compute the result and submit it to see if your code is correct.\n",
        "3. Feedback:\n",
        "• If correct, you'll receive immediate feedback that explains the formula you used.\n",
        "• If incorrect, hints will be provided to guide you toward the correct implementation.\n"
      ]
    },
    {
      "cell_type": "code",
      "execution_count": null,
      "metadata": {
        "id": "wjXXPOHlY1Y3"
      },
      "outputs": [],
      "source": [
        "def joint_probability(p_A, p_B):\n",
        "    return p_A * p_B\n",
        "\n",
        "p_A = 0.3\n",
        "p_B = 0.4\n",
        "\n",
        "p_A_and_B = joint_probability(p_A, p_B)\n",
        "print(f\"The joint probability of A and B is: {p_A_and_B:.2f}\")"
      ]
    },
    {
      "cell_type": "markdown",
      "metadata": {
        "id": "juJ9hzk63p7n"
      },
      "source": [
        "Exercise 2: Decision-Making Under Uncertainty"
      ]
    },
    {
      "cell_type": "code",
      "execution_count": null,
      "metadata": {
        "colab": {
          "base_uri": "https://localhost:8080/"
        },
        "id": "vwb5CC3y38H_",
        "outputId": "5f7aaa2c-1359-403e-bc3d-2432b8e0d9bd"
      },
      "outputs": [
        {
          "name": "stdout",
          "output_type": "stream",
          "text": [
            "Expected value of decision: 548.5\n"
          ]
        }
      ],
      "source": [
        "import numpy as np\n",
        "\n",
        "def stimulate_decision(num_simulations, p_success, reward_success, reward_failure):\n",
        "    outcomes = []\n",
        "\n",
        "    for _ in range(num_simulations):\n",
        "        if np.random.rand() < p_success:\n",
        "            outcomes.append(reward_success)\n",
        "        else:\n",
        "            outcomes.append(reward_failure)\n",
        "\n",
        "    average_outcome = np.mean(outcomes)\n",
        "    return average_outcome\n",
        "\n",
        "\n",
        "p_success = 0.7\n",
        "reward_success = 1000\n",
        "reward_failure = -500\n",
        "\n",
        "\n",
        "average_outcome = stimulate_decision(1000, p_success, reward_success, reward_failure)\n",
        "print(f\"Expected value of decision: {average_outcome}\")"
      ]
    },
    {
      "cell_type": "markdown",
      "metadata": {
        "id": "vWJd-iHLYdKi"
      },
      "source": [
        "Assessment Task 2: Bayesian Inference\n",
        "\n",
        "1. Interactive Bayesian Model:\n",
        "o Implement a Python function that performs Bayesian inference to update the\n",
        "probability of a hypothesis based on new evidence.\n",
        "o For this task, you'll be asked to compute the probability of having a disease\n",
        "given a positive test result.\n",
        "2. Interactive Scenario:\n",
        "o Scenario: A test for a disease has a 90% accuracy for positive results, and 5%\n",
        "of people without the disease test positive. If 1% of the population has the disease, what is the probability that someone who tested positive actually has the disease?\n",
        "3. Submit Your Answer:\n",
        "o Use your Bayesian inference function to compute the result and submit it.\n",
        "o Interactive Feedback: After submitting, you'll receive feedback explaining\n",
        "Bayes' Theorem and the role of prior probability, likelihood, and evidence."
      ]
    },
    {
      "cell_type": "code",
      "execution_count": null,
      "metadata": {
        "colab": {
          "background_save": true,
          "base_uri": "https://localhost:8080/"
        },
        "id": "PxPNyGfVZQfl",
        "outputId": "29c7d10d-7685-4a9b-e1d1-88cc46898c6e"
      },
      "outputs": [
        {
          "name": "stdout",
          "output_type": "stream",
          "text": [
            "The probability that someone who tested positive actually has the disease is: 0.1538\n"
          ]
        }
      ],
      "source": [
        "def bayesian_inference(prior, sensitivity, specificity):\n",
        "\n",
        "    false_positive_rate = 1 - specificity\n",
        "    p_positive = (sensitivity * prior) + (false_positive_rate * (1 - prior))\n",
        "    posterior = (sensitivity * prior) / p_positive\n",
        "\n",
        "    return posterior\n",
        "\n",
        "prior_disease = 0.01\n",
        "sensitivity = 0.90\n",
        "specificity = 0.95\n",
        "\n",
        "probability_disease_given_positive = bayesian_inference(prior_disease, sensitivity, specificity)\n",
        "print(f\"The probability that someone who tested positive actually has the disease is: {probability_disease_given_positive:.4f}\")\n"
      ]
    },
    {
      "cell_type": "markdown",
      "metadata": {
        "id": "2Ye0Xf5zaerR"
      },
      "source": [
        "Exercise 3: Applying Probability Theory in AI for Diagnosis"
      ]
    },
    {
      "cell_type": "code",
      "execution_count": null,
      "metadata": {
        "id": "muouD_iEak_0"
      },
      "outputs": [],
      "source": [
        "def bayesian_inference(prior, likelihood_positive_given_disease, ç):\n",
        "  posterior = (likelihood_positive_given_disease * prior) / likelihood_positive\n",
        "  return posterior\n",
        "\n",
        "prior_disease = 0.01\n",
        "likelihood_positive_given_disease = 0.9\n",
        "likelihood_positive = 0.05\n",
        "\n",
        "posterior_disease = bayesian_inference(prior_disease, likelihood_positive_given_disease, likelihood_positive)\n",
        "print(f\"Posterior probability of disease given positive test: {posterior_disease}\")\n"
      ]
    },
    {
      "cell_type": "markdown",
      "metadata": {
        "id": "RIGuKnh3crWz"
      },
      "source": [
        "Assessment Task 3: Decision-Making Under Uncertainty\n",
        "1. Interactive Decision Simulation:\n",
        "o You are tasked with simulating a decision-making process using Python. In\n",
        "this simulation, an AI system must choose between two investment options with uncertain outcomes (profit or loss).\n",
        "2. Interactive Task:\n",
        "o Task: Implement a function that simulates the decision-making process for\n",
        "1000 iterations. The probability of success is 70%, and the reward for\n",
        "success is $1000, while the penalty for failure is -$500.\n",
        "o Interactive Input: Adjust the probability of success or failure and simulate\n",
        "different outcomes.\n",
        "3. Question: What is the average return after 1000 iterations? How does changing the probability affect the result?\n",
        "4. Submit and Feedback:\n",
        "o Run your simulation and submit the results.\n",
        "o Feedback will include an explanation of how probability distributions affect\n",
        "decision-making under uncertainty."
      ]
    },
    {
      "cell_type": "code",
      "execution_count": null,
      "metadata": {
        "colab": {
          "background_save": true,
          "base_uri": "https://localhost:8080/"
        },
        "id": "7ig6MId6c2bh",
        "outputId": "ba0f31d9-b9ab-42ff-aa70-4471689e495c"
      },
      "outputs": [
        {
          "name": "stdout",
          "output_type": "stream",
          "text": [
            "The average return after 1000 iterations is: $548.50\n",
            "With a success probability of 0.5, the average return is: $235.00\n",
            "With a success probability of 0.9, the average return is: $868.00\n"
          ]
        }
      ],
      "source": [
        "import numpy as np\n",
        "\n",
        "def investment_simulation(num_simulations, p_success, reward_success, penalty_failure):\n",
        "    outcomes = []\n",
        "\n",
        "    for _ in range(num_simulations):\n",
        "        if np.random.rand() < p_success:\n",
        "            outcomes.append(reward_success)\n",
        "        else:\n",
        "            outcomes.append(penalty_failure)\n",
        "\n",
        "    average_return = np.mean(outcomes)\n",
        "    return average_return\n",
        "\n",
        "\n",
        "num_simulations = 1000\n",
        "p_success = 0.7\n",
        "reward_success = 1000\n",
        "penalty_failure = -500\n",
        "\n",
        "\n",
        "average_return = investment_simulation(num_simulations, p_success, reward_success, penalty_failure)\n",
        "\n",
        "print(f\"The average return after {num_simulations} iterations is: ${average_return:.2f}\")\n",
        "\n",
        "\n",
        "p_success = 0.5\n",
        "average_return = investment_simulation(num_simulations, p_success, reward_success, penalty_failure)\n",
        "print(f\"With a success probability of {p_success}, the average return is: ${average_return:.2f}\")\n",
        "\n",
        "p_success = 0.9\n",
        "average_return = investment_simulation(num_simulations, p_success, reward_success, penalty_failure)\n",
        "print(f\"With a success probability of {p_success}, the average return is: ${average_return:.2f}\")"
      ]
    },
    {
      "cell_type": "markdown",
      "metadata": {
        "id": "9ZDFigxAdwOt"
      },
      "source": [
        "Exercise 4: Probability Distribution in AI"
      ]
    },
    {
      "cell_type": "code",
      "execution_count": null,
      "metadata": {
        "id": "3EU43IONdyzM"
      },
      "outputs": [],
      "source": [
        "import numpy as np\n",
        "import matplotlib.pyplot as plt\n",
        "\n",
        "n_trials = 1000\n",
        "p_head = 0.5\n",
        "binomial_distribution = np.random.binomial(n=1, p=p_head, size=n_trials)\n",
        "\n",
        "plt.hist(binomial_distribution, bins=2)\n",
        "plt.title('Binomial Distribution (Coin Flips)')\n",
        "plt.show()"
      ]
    },
    {
      "cell_type": "markdown",
      "metadata": {
        "id": "Nt0REnPmexOc"
      },
      "source": [
        "Assessment Task 4: Real-World Scenario\n",
        "1. Interactive Real-World Problem:\n",
        "o You are asked to model a real-world scenario in AI, such as predicting\n",
        "whether it will rain based on factors like humidity and cloud cover. Use conditional probabilities to model this scenario.\n",
        "2. Scenario Simulation:\n",
        "o Task: Implement a Python script that uses conditional probability to predict\n",
        "the likelihood of rain given evidence (humidity and cloud cover).\n",
        "o Interactive Scenario: You can change the input conditions (e.g., increase humidity or cloud cover) to see how the probability of rain changes in real-\n",
        "time.\n",
        "3. Submit and Feedback:\n",
        "o Submit your prediction and see the outcomes in a dynamically updated plot.\n",
        "Feedback will explain how the evidence you input affects the overall prediction."
      ]
    },
    {
      "cell_type": "code",
      "execution_count": null,
      "metadata": {
        "id": "82jZwgbfeyI0"
      },
      "outputs": [],
      "source": [
        "import numpy as np\n",
        "import matplotlib.pyplot as plt\n",
        "\n",
        "def calculate_probability_of_rain(humidity, cloud_cover):\n",
        "    \"\"\"\n",
        "    Calculate the probability of rain based on humidity and cloud cover.\n",
        "\n",
        "    Parameters:\n",
        "    - humidity: Humidity level (0 to 100).\n",
        "    - cloud_cover: Cloud cover level (0 to 100).\n",
        "\n",
        "    Returns:\n",
        "    - Probability of rain (0 to 1).\n",
        "    \"\"\"\n",
        "\n",
        "    prior_rain = 0.3\n",
        "\n",
        "\n",
        "    likelihood_rain_given_humidity = min(humidity / 100, 1)\n",
        "    likelihood_rain_given_cloud_cover = min(cloud_cover / 100, 1)\n",
        "\n",
        "\n",
        "    p_rain = (likelihood_rain_given_humidity * likelihood_rain_given_cloud_cover * prior_rain) / \\\n",
        "              ((likelihood_rain_given_humidity * likelihood_rain_given_cloud_cover * prior_rain) +\n",
        "               ((1 - likelihood_rain_given_humidity) * (1 - likelihood_rain_given_cloud_cover) * (1 - prior_rain)))\n",
        "\n",
        "    return p_rain\n",
        "\n",
        "def main():\n",
        "    print(\"Rain Prediction Model\")\n",
        "\n",
        "\n",
        "    humidity = float(input(\"Enter humidity level (0-100): \"))\n",
        "    cloud_cover = float(input(\"Enter cloud cover level (0-100): \"))\n",
        "\n",
        "\n",
        "    probability_of_rain = calculate_probability_of_rain(humidity, cloud_cover)\n",
        "\n",
        "    print(f\"\\nThe probability of rain given humidity {humidity}% and cloud cover {cloud_cover}% is: {probability_of_rain:.2f}\")\n",
        "\n",
        "\n",
        "    plot_probability(humidity, cloud_cover)\n",
        "\n",
        "def plot_probability(humidity, cloud_cover):\n",
        "    \"\"\"\n",
        "    Plot the probability of rain as a function of humidity and cloud cover.\n",
        "\n",
        "    Parameters:\n",
        "    - humidity: Current humidity level.\n",
        "    - cloud_cover: Current cloud cover level.\n",
        "    \"\"\"\n",
        "\n",
        "\n",
        "    humidities = np.linspace(0, 100, 100)\n",
        "    cloud_covers = np.linspace(0, 100, 100)\n",
        "\n",
        "    X, Y = np.meshgrid(humidities, cloud_covers)\n",
        "\n",
        "    Z = np.array([[calculate_probability_of_rain(h, c) for h in humidities] for c in cloud_covers])\n",
        "\n",
        "    plt.figure(figsize=(10, 6))\n",
        "    cp = plt.contourf(X, Y, Z, levels=50, cmap='viridis')\n",
        "\n",
        "    plt.colorbar(cp)\n",
        "\n",
        "    plt.scatter(humidity, cloud_cover, color='red', label='Input Conditions', s=100)\n",
        "\n",
        "    plt.title('Probability of Rain Based on Humidity and Cloud Cover')\n",
        "    plt.xlabel('Humidity (%)')\n",
        "    plt.ylabel('Cloud Cover (%)')\n",
        "\n",
        "    plt.legend()\n",
        "\n",
        "    plt.show()\n",
        "\n",
        "if __name__ == \"__main__\":\n",
        "    main()"
      ]
    },
    {
      "cell_type": "markdown",
      "metadata": {
        "id": "uJn6Cu9Le59q"
      },
      "source": [
        "Exercise 5: Real-World Application of Probability in AI"
      ]
    },
    {
      "cell_type": "code",
      "execution_count": null,
      "metadata": {
        "colab": {
          "base_uri": "https://localhost:8080/",
          "height": 176
        },
        "id": "1f2jNkyle-uj",
        "outputId": "8bfabd09-18a2-47b6-8f0b-7447e951951b"
      },
      "outputs": [
        {
          "ename": "NameError",
          "evalue": "name 'p_pruchase' is not defined",
          "output_type": "error",
          "traceback": [
            "\u001b[0;31m---------------------------------------------------------------------------\u001b[0m",
            "\u001b[0;31mNameError\u001b[0m                                 Traceback (most recent call last)",
            "\u001b[0;32m<ipython-input-10-5c5104310b00>\u001b[0m in \u001b[0;36m<cell line: 5>\u001b[0;34m()\u001b[0m\n\u001b[1;32m      3\u001b[0m \u001b[0;34m\u001b[0m\u001b[0m\n\u001b[1;32m      4\u001b[0m \u001b[0mp_purchase\u001b[0m \u001b[0;34m=\u001b[0m \u001b[0mconditional_probability\u001b[0m\u001b[0;34m(\u001b[0m\u001b[0mp_purchase_given_cart\u001b[0m\u001b[0;34m,\u001b[0m \u001b[0mp_cart\u001b[0m\u001b[0;34m,\u001b[0m \u001b[0;36m1\u001b[0m\u001b[0;34m)\u001b[0m\u001b[0;34m\u001b[0m\u001b[0;34m\u001b[0m\u001b[0m\n\u001b[0;32m----> 5\u001b[0;31m \u001b[0mprint\u001b[0m\u001b[0;34m(\u001b[0m\u001b[0;34mf\"Probability of purchase: {p_pruchase}\"\u001b[0m\u001b[0;34m)\u001b[0m\u001b[0;34m\u001b[0m\u001b[0;34m\u001b[0m\u001b[0m\n\u001b[0m",
            "\u001b[0;31mNameError\u001b[0m: name 'p_pruchase' is not defined"
          ]
        }
      ],
      "source": [
        "p_purchase_given_cart = 0.4\n",
        "p_cart = 0.3\n",
        "\n",
        "p_purchase = conditional_probability(p_purchase_given_cart, p_cart, 1)\n",
        "print(f\"Probability of purchase: {p_pruchase}\")"
      ]
    },
    {
      "cell_type": "markdown",
      "metadata": {
        "id": "K1dujVOMgAuW"
      },
      "source": [
        "Assessment Task 5: Probability Distributions Visualization\n",
        "1. Interactive Visualization Task:\n",
        "o Write Python code to generate and visualize binomial and normal probability\n",
        "distributions.\n",
        "2. Interactive Question:\n",
        "o Task: Simulate 1000 coin flips using a binomial distribution and visualize the\n",
        "outcomes.\n",
        "o Follow-Up: How does increasing the number of trials or changing the\n",
        "probability of heads affect the distribution?\n",
        "3. Interactive Graph:\n",
        "o Submit your code, and a real-time plot of the distribution will be generated.\n",
        "You can adjust the number of trials or probabilities and see how the graph\n",
        "updates.\n",
        "o Feedback: Receive instant feedback on your graph, explaining how different\n",
        "distribution parameters affect the outcome."
      ]
    },
    {
      "cell_type": "code",
      "execution_count": null,
      "metadata": {
        "id": "IeYPiuKVgGpL"
      },
      "outputs": [],
      "source": [
        "import numpy as np\n",
        "import matplotlib.pyplot as plt\n",
        "from scipy.stats import binom, norm\n",
        "import ipywidgets as widgets\n",
        "from IPython.display import display\n",
        "\n",
        "def plot_binomial_distribution(n, p):\n",
        "    \"\"\"\n",
        "    Plot the binomial distribution for n trials and probability p.\n",
        "\n",
        "    Parameters:\n",
        "    - n: Number of trials (coin flips).\n",
        "    - p: Probability of success (getting heads).\n",
        "    \"\"\"\n",
        "    x = np.arange(0, n + 1)\n",
        "    binom_pmf = binom.pmf(x, n, p)\n",
        "\n",
        "    plt.figure(figsize=(12, 6))\n",
        "    plt.bar(x, binom_pmf, color='skyblue', label='Binomial Distribution PMF', alpha=0.7)\n",
        "    plt.title(f'Binomial Distribution (n={n}, p={p})')\n",
        "    plt.xlabel('Number of Heads')\n",
        "    plt.ylabel('Probability')\n",
        "    plt.xticks(x)\n",
        "    plt.grid(axis='y', linestyle='--', alpha=0.7)\n",
        "    plt.legend()\n",
        "\n",
        "def plot_normal_distribution(n, p):\n",
        "    \"\"\"\n",
        "    Plot the normal approximation of the binomial distribution.\n",
        "\n",
        "    Parameters:\n",
        "    - n: Number of trials (coin flips).\n",
        "    - p: Probability of success (getting heads).\n",
        "    \"\"\"\n",
        "    mean = n * p\n",
        "    variance = n * p * (1 - p)\n",
        "    std_dev = np.sqrt(variance)\n",
        "\n",
        "    x = np.linspace(mean - 4*std_dev, mean + 4*std_dev, 1000)\n",
        "    normal_pdf = norm.pdf(x, mean, std_dev)\n",
        "\n",
        "    plt.plot(x, normal_pdf, color='orange', label='Normal Approximation', linewidth=2)\n",
        "\n",
        "def plot_distributions(n, p):\n",
        "    plt.clf()\n",
        "    plot_binomial_distribution(n, p)\n",
        "    plot_normal_distribution(n, p)\n",
        "\n",
        "def update_plot(n=1000, p=0.5):\n",
        "    plot_distributions(n, p)\n",
        "\n",
        "\n",
        "n_slider = widgets.IntSlider(value=1000, min=10, max=5000, step=10, description='Number of Trials:')\n",
        "p_slider = widgets.FloatSlider(value=0.5, min=0.01, max=1.0, step=0.01, description='Probability of Heads:')\n",
        "\n",
        "\n",
        "widgets.interactive(update_plot, n=n_slider, p=p_slider)\n",
        "\n",
        "plt.show()"
      ]
    }
  ],
  "metadata": {
    "colab": {
      "provenance": [],
      "authorship_tag": "ABX9TyNV+qS+RpwvysvuxCOH4lLe",
      "include_colab_link": true
    },
    "kernelspec": {
      "display_name": "Python 3",
      "name": "python3"
    },
    "language_info": {
      "name": "python"
    }
  },
  "nbformat": 4,
  "nbformat_minor": 0
}